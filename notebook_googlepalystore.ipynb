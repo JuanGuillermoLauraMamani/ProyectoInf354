{
 "cells": [
  {
   "cell_type": "markdown",
   "metadata": {},
   "source": [
    "# Analisis de Dataset Google PlayStore"
   ]
  },
  {
   "cell_type": "markdown",
   "metadata": {},
   "source": [
    "## En este notebook, vamos a analizar el conjunto de datos (tomado de Kaggle) de todas las aplicaciones en Google Play Store."
   ]
  },
  {
   "cell_type": "markdown",
   "metadata": {},
   "source": [
    "# 1. Procesos de analisis de datos\n",
    "> ## Con este conjunto de datos, podemos predecir la calificación de una aplicación con datos dados. Además, hacer una prueba de hipótesis simple para ver si los juegos funcionan mejor que otras categorías. Para intentar predecir las calificaciones\n",
    "\n",
    "> ### Los datos que manejaremos :\n",
    "\n",
    "> ### NomApp : Es ek niombre de la aplicacion\n",
    "| Categoría : la categoria a la que pertenece la aplicaion: famliar, game, sports..etct\n",
    "| Calificación : es la aclificaion que se le da del 0 al 5 a una aplicaion \n",
    "| Reseñas: el numero de reseñas tanto malas como buenas eso no lo especirfica, solo nos da el total\n",
    "| Tamaño : el tamaño de la app en MegasBytes\n",
    "| Instalaciones : el numero de instalaciones \n",
    "| Tipo: el tipo si es gratis o si es de paga\n",
    "| Precio : el precio\n",
    "| Calificación_De_Contenido: el tipo de contenido: si es para todo tipo de publlico, si es para adultos, etc\n",
    "| Género: es igual que la categoria     : \n",
    "| Última actualización : es la fecha de su ultima actualizacion\n",
    "| Versión actual:: version de android actual \n",
    "| Ver Android: version de android que aceptan los dispositivos moviles\n",
    "\n",
    "> ### Creo que no es necesario explicar cada una de los campos, porque su simple nombre basta "
   ]
  },
  {
   "cell_type": "markdown",
   "metadata": {},
   "source": [
    " preprocesamiento, análisis, pruebas;\n",
    "> #### 1.PROCESO DE ANALISIS DE DATOS (enteder problema)\n",
    "> #### 2.LEER LOS DATOS\n",
    "> #### 3. PREPROCESAMIENTO\n",
    "    > #### -  3.1 Manejo de valores NULLs\n",
    "    > #### -  3.2 Manejo de tipos y valores de datos\n",
    "> #### 4. Analizando y vizualiazando nuestros datos\n",
    "> #### 5. Modelo y Pruebas\n"
   ]
  },
  {
   "cell_type": "markdown",
   "metadata": {},
   "source": [
    "# 2.  Leer los datos"
   ]
  },
  {
   "cell_type": "markdown",
   "metadata": {},
   "source": [
    "### Importamos las librerias para nuestra lectura"
   ]
  },
  {
   "cell_type": "code",
   "execution_count": 5,
   "metadata": {},
   "outputs": [],
   "source": [
    "import pandas as pd\n",
    "import numpy as np"
   ]
  },
  {
   "cell_type": "markdown",
   "metadata": {},
   "source": [
    "### Leemos el dataset\n"
   ]
  },
  {
   "cell_type": "code",
   "execution_count": 6,
   "metadata": {},
   "outputs": [
    {
     "name": "stdout",
     "output_type": "stream",
     "text": [
      "                                                     App             Category  \\\n",
      "0         Photo Editor & Candy Camera & Grid & ScrapBook       ART_AND_DESIGN   \n",
      "1                                    Coloring book moana       ART_AND_DESIGN   \n",
      "2      U Launcher Lite – FREE Live Cool Themes, Hide ...       ART_AND_DESIGN   \n",
      "3                                  Sketch - Draw & Paint       ART_AND_DESIGN   \n",
      "4                  Pixel Draw - Number Art Coloring Book       ART_AND_DESIGN   \n",
      "...                                                  ...                  ...   \n",
      "10836                                   Sya9a Maroc - FR               FAMILY   \n",
      "10837                   Fr. Mike Schmitz Audio Teachings               FAMILY   \n",
      "10838                             Parkinson Exercices FR              MEDICAL   \n",
      "10839                      The SCP Foundation DB fr nn5n  BOOKS_AND_REFERENCE   \n",
      "10840      iHoroscope - 2018 Daily Horoscope & Astrology            LIFESTYLE   \n",
      "\n",
      "       Rating Reviews                Size     Installs  Type Price  \\\n",
      "0         4.1     159                 19M      10,000+  Free     0   \n",
      "1         3.9     967                 14M     500,000+  Free     0   \n",
      "2         4.7   87510                8.7M   5,000,000+  Free     0   \n",
      "3         4.5  215644                 25M  50,000,000+  Free     0   \n",
      "4         4.3     967                2.8M     100,000+  Free     0   \n",
      "...       ...     ...                 ...          ...   ...   ...   \n",
      "10836     4.5      38                 53M       5,000+  Free     0   \n",
      "10837     5.0       4                3.6M         100+  Free     0   \n",
      "10838     NaN       3                9.5M       1,000+  Free     0   \n",
      "10839     4.5     114  Varies with device       1,000+  Free     0   \n",
      "10840     4.5  398307                 19M  10,000,000+  Free     0   \n",
      "\n",
      "      Content Rating                     Genres      Last Updated  \\\n",
      "0           Everyone               Art & Design   January 7, 2018   \n",
      "1           Everyone  Art & Design;Pretend Play  January 15, 2018   \n",
      "2           Everyone               Art & Design    August 1, 2018   \n",
      "3               Teen               Art & Design      June 8, 2018   \n",
      "4           Everyone    Art & Design;Creativity     June 20, 2018   \n",
      "...              ...                        ...               ...   \n",
      "10836       Everyone                  Education     July 25, 2017   \n",
      "10837       Everyone                  Education      July 6, 2018   \n",
      "10838       Everyone                    Medical  January 20, 2017   \n",
      "10839     Mature 17+          Books & Reference  January 19, 2015   \n",
      "10840       Everyone                  Lifestyle     July 25, 2018   \n",
      "\n",
      "              Current Ver         Android Ver  \n",
      "0                   1.0.0        4.0.3 and up  \n",
      "1                   2.0.0        4.0.3 and up  \n",
      "2                   1.2.4        4.0.3 and up  \n",
      "3      Varies with device          4.2 and up  \n",
      "4                     1.1          4.4 and up  \n",
      "...                   ...                 ...  \n",
      "10836                1.48          4.1 and up  \n",
      "10837                 1.0          4.1 and up  \n",
      "10838                 1.0          2.2 and up  \n",
      "10839  Varies with device  Varies with device  \n",
      "10840  Varies with device  Varies with device  \n",
      "\n",
      "[10841 rows x 13 columns]\n"
     ]
    }
   ],
   "source": [
    "datos = pd.read_csv(\"C:/Users/Yuki/Desktop/Proyecto/googleplaystore.csv\")\n",
    "print(datos)"
   ]
  },
  {
   "cell_type": "markdown",
   "metadata": {},
   "source": [
    "# 3. PREPROCESAMIENTO\n",
    "\n",
    "  ### 3.1 Manejo de valores NULLs"
   ]
  },
  {
   "cell_type": "markdown",
   "metadata": {},
   "source": [
    "#### Este es un paso muy importante en cada análisis y modelo, mejora la precisión de los conocimientos y las predicciones de nuestros datos"
   ]
  },
  {
   "cell_type": "code",
   "execution_count": 7,
   "metadata": {},
   "outputs": [
    {
     "name": "stdout",
     "output_type": "stream",
     "text": [
      "<class 'pandas.core.frame.DataFrame'>\n",
      "RangeIndex: 10841 entries, 0 to 10840\n",
      "Data columns (total 13 columns):\n",
      " #   Column          Non-Null Count  Dtype  \n",
      "---  ------          --------------  -----  \n",
      " 0   App             10841 non-null  object \n",
      " 1   Category        10841 non-null  object \n",
      " 2   Rating          9367 non-null   float64\n",
      " 3   Reviews         10841 non-null  object \n",
      " 4   Size            10841 non-null  object \n",
      " 5   Installs        10841 non-null  object \n",
      " 6   Type            10840 non-null  object \n",
      " 7   Price           10841 non-null  object \n",
      " 8   Content Rating  10840 non-null  object \n",
      " 9   Genres          10841 non-null  object \n",
      " 10  Last Updated    10841 non-null  object \n",
      " 11  Current Ver     10833 non-null  object \n",
      " 12  Android Ver     10838 non-null  object \n",
      "dtypes: float64(1), object(12)\n",
      "memory usage: 1.1+ MB\n",
      "None\n",
      "App                  0\n",
      "Category             0\n",
      "Rating            1474\n",
      "Reviews              0\n",
      "Size                 0\n",
      "Installs             0\n",
      "Type                 1\n",
      "Price                0\n",
      "Content Rating       1\n",
      "Genres               0\n",
      "Last Updated         0\n",
      "Current Ver          8\n",
      "Android Ver          3\n",
      "dtype: int64\n"
     ]
    }
   ],
   "source": [
    "print(datos.info())\n",
    "\n",
    "print(datos.isnull().sum())  # mostramos el numero de nulls que tiene cada campo\n"
   ]
  },
  {
   "cell_type": "markdown",
   "metadata": {},
   "source": [
    "> #### Habia muchos nulls en Rating, en Type, Content Rating y Versions."
   ]
  },
  {
   "cell_type": "markdown",
   "metadata": {},
   "source": [
    "#### reemplazando los valores NaN de la columna de Rating con la media"
   ]
  },
  {
   "cell_type": "code",
   "execution_count": 8,
   "metadata": {},
   "outputs": [
    {
     "name": "stdout",
     "output_type": "stream",
     "text": [
      "<class 'pandas.core.frame.DataFrame'>\n",
      "RangeIndex: 10841 entries, 0 to 10840\n",
      "Data columns (total 13 columns):\n",
      " #   Column          Non-Null Count  Dtype  \n",
      "---  ------          --------------  -----  \n",
      " 0   App             10841 non-null  object \n",
      " 1   Category        10841 non-null  object \n",
      " 2   Rating          10841 non-null  float64\n",
      " 3   Reviews         10841 non-null  object \n",
      " 4   Size            10841 non-null  object \n",
      " 5   Installs        10841 non-null  object \n",
      " 6   Type            10840 non-null  object \n",
      " 7   Price           10841 non-null  object \n",
      " 8   Content Rating  10840 non-null  object \n",
      " 9   Genres          10841 non-null  object \n",
      " 10  Last Updated    10841 non-null  object \n",
      " 11  Current Ver     10833 non-null  object \n",
      " 12  Android Ver     10838 non-null  object \n",
      "dtypes: float64(1), object(12)\n",
      "memory usage: 1.1+ MB\n",
      "None\n",
      "App               0\n",
      "Category          0\n",
      "Rating            0\n",
      "Reviews           0\n",
      "Size              0\n",
      "Installs          0\n",
      "Type              1\n",
      "Price             0\n",
      "Content Rating    1\n",
      "Genres            0\n",
      "Last Updated      0\n",
      "Current Ver       8\n",
      "Android Ver       3\n",
      "dtype: int64\n"
     ]
    }
   ],
   "source": [
    "mean=datos[\"Rating\"].mean()\n",
    "datos[\"Rating\"].fillna(mean,axis=0,inplace=True)\n",
    "\n",
    "\n",
    "print(datos.info())\n",
    "print(datos.isnull().sum())  # mostramos el numero de nulls que tiene cada campo\n"
   ]
  },
  {
   "cell_type": "markdown",
   "metadata": {},
   "source": [
    "#### Por ultimo borraremos las filas NaN restantes"
   ]
  },
  {
   "cell_type": "code",
   "execution_count": 9,
   "metadata": {},
   "outputs": [
    {
     "name": "stdout",
     "output_type": "stream",
     "text": [
      "<class 'pandas.core.frame.DataFrame'>\n",
      "Int64Index: 10829 entries, 0 to 10840\n",
      "Data columns (total 13 columns):\n",
      " #   Column          Non-Null Count  Dtype  \n",
      "---  ------          --------------  -----  \n",
      " 0   App             10829 non-null  object \n",
      " 1   Category        10829 non-null  object \n",
      " 2   Rating          10829 non-null  float64\n",
      " 3   Reviews         10829 non-null  object \n",
      " 4   Size            10829 non-null  object \n",
      " 5   Installs        10829 non-null  object \n",
      " 6   Type            10829 non-null  object \n",
      " 7   Price           10829 non-null  object \n",
      " 8   Content Rating  10829 non-null  object \n",
      " 9   Genres          10829 non-null  object \n",
      " 10  Last Updated    10829 non-null  object \n",
      " 11  Current Ver     10829 non-null  object \n",
      " 12  Android Ver     10829 non-null  object \n",
      "dtypes: float64(1), object(12)\n",
      "memory usage: 1.2+ MB\n",
      "None\n",
      "App               0\n",
      "Category          0\n",
      "Rating            0\n",
      "Reviews           0\n",
      "Size              0\n",
      "Installs          0\n",
      "Type              0\n",
      "Price             0\n",
      "Content Rating    0\n",
      "Genres            0\n",
      "Last Updated      0\n",
      "Current Ver       0\n",
      "Android Ver       0\n",
      "dtype: int64\n"
     ]
    }
   ],
   "source": [
    "datos.dropna(axis=0,inplace=True)\n",
    "\n",
    "\n",
    "print(datos.info())\n",
    "print(datos.isnull().sum())  # mostramos el numero de nulls que tiene cada campo"
   ]
  },
  {
   "cell_type": "markdown",
   "metadata": {},
   "source": [
    "###  3.2 Manejo de tipos y valores de los datos"
   ]
  },
  {
   "cell_type": "markdown",
   "metadata": {},
   "source": [
    "> ### Cambiamos los datos a un formato adecuado que se pueda utilizar para el análisis."
   ]
  },
  {
   "cell_type": "code",
   "execution_count": 10,
   "metadata": {},
   "outputs": [
    {
     "name": "stdout",
     "output_type": "stream",
     "text": [
      "App                object\n",
      "Category           object\n",
      "Rating            float64\n",
      "Reviews            object\n",
      "Size               object\n",
      "Installs           object\n",
      "Type               object\n",
      "Price              object\n",
      "Content Rating     object\n",
      "Genres             object\n",
      "Last Updated       object\n",
      "Current Ver        object\n",
      "Android Ver        object\n",
      "dtype: object\n"
     ]
    }
   ],
   "source": [
    "print(datos.dtypes)  # observemos los tipos que tiene cada campo"
   ]
  },
  {
   "cell_type": "markdown",
   "metadata": {},
   "source": [
    ">#### obesermoa que el campo Review debe cambiarse a tipo numerico"
   ]
  },
  {
   "cell_type": "code",
   "execution_count": 11,
   "metadata": {},
   "outputs": [
    {
     "name": "stdout",
     "output_type": "stream",
     "text": [
      "0           159\n",
      "1           967\n",
      "2         87510\n",
      "3        215644\n",
      "4           967\n",
      "          ...  \n",
      "10836        38\n",
      "10837         4\n",
      "10838         3\n",
      "10839       114\n",
      "10840    398307\n",
      "Name: Reviews, Length: 10829, dtype: int64\n"
     ]
    }
   ],
   "source": [
    "datos.Reviews = datos.Reviews.astype('int64') #Camibamos el tipo de dato\n",
    "print(datos.Reviews)"
   ]
  },
  {
   "cell_type": "markdown",
   "metadata": {},
   "source": [
    ">#### Otros campos como Size, Installs,Price y Android Ver también deben ser de tipo numérico.\n",
    "Los valores que tienen deben cambiarse a un formato adecuado para que podamos usarlos para análisis y gráficos.\n",
    "\n",
    "Ejemplo: En el campo Installs los valores son de tipo: '10000+' y debden cambiarse:  10000"
   ]
  },
  {
   "cell_type": "markdown",
   "metadata": {},
   "source": [
    "#### Cambiando la clase : Installs"
   ]
  },
  {
   "cell_type": "code",
   "execution_count": 12,
   "metadata": {},
   "outputs": [
    {
     "name": "stdout",
     "output_type": "stream",
     "text": [
      "0           10000\n",
      "1          500000\n",
      "2         5000000\n",
      "3        50000000\n",
      "4          100000\n",
      "           ...   \n",
      "10836        5000\n",
      "10837         100\n",
      "10838        1000\n",
      "10839        1000\n",
      "10840    10000000\n",
      "Name: Installs, Length: 10829, dtype: int32\n"
     ]
    }
   ],
   "source": [
    "# Limpizamos y cambiamos la clase Installs\n",
    "datos.Installs=datos.Installs.apply(lambda x: x.strip('+'))\n",
    "datos.Installs=datos.Installs.apply(lambda x: x.replace(',',''))\n",
    "datos.Installs=datos.Installs.replace('Free',np.nan)\n",
    "datos[\"Installs\"]=datos[\"Installs\"].astype(int)\n",
    "\n",
    "\n",
    "print(datos.Installs)\n",
    "\n"
   ]
  },
  {
   "cell_type": "markdown",
   "metadata": {},
   "source": [
    "#### Cambiando la clase : Size"
   ]
  },
  {
   "cell_type": "code",
   "execution_count": 13,
   "metadata": {},
   "outputs": [
    {
     "name": "stdout",
     "output_type": "stream",
     "text": [
      "0        1.900000e+07\n",
      "1        1.400000e+07\n",
      "2        8.700000e+06\n",
      "3        2.500000e+07\n",
      "4        2.800000e+06\n",
      "             ...     \n",
      "10836    5.300000e+07\n",
      "10837    3.600000e+06\n",
      "10838    9.500000e+06\n",
      "10839    2.153496e+07\n",
      "10840    1.900000e+07\n",
      "Name: Size, Length: 10829, dtype: float64\n"
     ]
    }
   ],
   "source": [
    "#Limpiando la clase Size \n",
    "datos.Size=datos.Size.replace( to_replace='k',value='e+3',regex=True)\n",
    "datos.Size=datos.Size.replace('M','e+6',regex=True)\n",
    "datos.Size=datos.Size.replace('Varies with device',np.nan)\n",
    "datos.Size=datos.Size.replace('1,000+',1000)\n",
    "datos[\"Size\"].dropna(inplace=True)\n",
    "datos.Size=datos.Size.astype(float)\n",
    "\n",
    "\n",
    "#Remplamos los valores NaN por la media\n",
    "mean=datos[\"Size\"].mean()\n",
    "datos[\"Size\"].fillna(mean,inplace=True)\n",
    "\n",
    "print(datos.Size)\n"
   ]
  },
  {
   "cell_type": "markdown",
   "metadata": {},
   "source": [
    "#### Cambiando la clase : Price"
   ]
  },
  {
   "cell_type": "code",
   "execution_count": 14,
   "metadata": {},
   "outputs": [
    {
     "name": "stdout",
     "output_type": "stream",
     "text": [
      "0        0.0\n",
      "1        0.0\n",
      "2        0.0\n",
      "3        0.0\n",
      "4        0.0\n",
      "        ... \n",
      "10836    0.0\n",
      "10837    0.0\n",
      "10838    0.0\n",
      "10839    0.0\n",
      "10840    0.0\n",
      "Name: Price, Length: 10829, dtype: float64\n"
     ]
    }
   ],
   "source": [
    "# Limpiando la clase Price\n",
    "datos.Price=datos.Price.apply(lambda x: x.replace('$',''))\n",
    "datos.Price=datos.Price.astype(float)\n",
    "\n",
    "print(datos.Price)"
   ]
  },
  {
   "cell_type": "markdown",
   "metadata": {},
   "source": [
    ">#### Verificamos que se hayan cambiado los tipos de datos"
   ]
  },
  {
   "cell_type": "code",
   "execution_count": 15,
   "metadata": {
    "scrolled": true
   },
   "outputs": [
    {
     "name": "stdout",
     "output_type": "stream",
     "text": [
      "App                object\n",
      "Category           object\n",
      "Rating            float64\n",
      "Reviews             int64\n",
      "Size              float64\n",
      "Installs            int32\n",
      "Type               object\n",
      "Price             float64\n",
      "Content Rating     object\n",
      "Genres             object\n",
      "Last Updated       object\n",
      "Current Ver        object\n",
      "Android Ver        object\n",
      "dtype: object\n"
     ]
    }
   ],
   "source": [
    "print(datos.dtypes) "
   ]
  },
  {
   "cell_type": "markdown",
   "metadata": {},
   "source": [
    "#### Borramos algunas clases para nuestro que nuestro analisis sea mejor"
   ]
  },
  {
   "cell_type": "code",
   "execution_count": 16,
   "metadata": {},
   "outputs": [
    {
     "name": "stdout",
     "output_type": "stream",
     "text": [
      "                  Category    Rating  Reviews          Size  Installs  Type  \\\n",
      "0           ART_AND_DESIGN  4.100000      159  1.900000e+07     10000  Free   \n",
      "1           ART_AND_DESIGN  3.900000      967  1.400000e+07    500000  Free   \n",
      "2           ART_AND_DESIGN  4.700000    87510  8.700000e+06   5000000  Free   \n",
      "3           ART_AND_DESIGN  4.500000   215644  2.500000e+07  50000000  Free   \n",
      "4           ART_AND_DESIGN  4.300000      967  2.800000e+06    100000  Free   \n",
      "...                    ...       ...      ...           ...       ...   ...   \n",
      "10836               FAMILY  4.500000       38  5.300000e+07      5000  Free   \n",
      "10837               FAMILY  5.000000        4  3.600000e+06       100  Free   \n",
      "10838              MEDICAL  4.193338        3  9.500000e+06      1000  Free   \n",
      "10839  BOOKS_AND_REFERENCE  4.500000      114  2.153496e+07      1000  Free   \n",
      "10840            LIFESTYLE  4.500000   398307  1.900000e+07  10000000  Free   \n",
      "\n",
      "       Price Content Rating  \n",
      "0        0.0       Everyone  \n",
      "1        0.0       Everyone  \n",
      "2        0.0       Everyone  \n",
      "3        0.0           Teen  \n",
      "4        0.0       Everyone  \n",
      "...      ...            ...  \n",
      "10836    0.0       Everyone  \n",
      "10837    0.0       Everyone  \n",
      "10838    0.0       Everyone  \n",
      "10839    0.0     Mature 17+  \n",
      "10840    0.0       Everyone  \n",
      "\n",
      "[10829 rows x 8 columns]\n"
     ]
    }
   ],
   "source": [
    "#Eliminamo columnas que no son importantes para nuestro analisis\n",
    "#Dado que para predecir el rating de una app, si o si se necesta lo que son los reviews, las installaciones, el tamaño, el precio, y tipode contenido\n",
    "# y no asi el nombre de la app, el genero y la categoria o fechas o las versiones de android para saber si una app va a tener \n",
    "# una nota aceptable en su reting\n",
    "# por lo que pienso que borrar esas clases, viendo un analisis de lo que ven los clientes en una app a la hora de instalarlos o de usarlos\n",
    "datos.drop([\"App\",\"Genres\",\"Last Updated\",\"Current Ver\",\"Android Ver\"],axis=1,inplace=True)\n",
    "\n",
    "print(datos)"
   ]
  },
  {
   "cell_type": "markdown",
   "metadata": {},
   "source": [
    "# 4. Analizando y vizualizando nuestros datos "
   ]
  },
  {
   "cell_type": "markdown",
   "metadata": {},
   "source": [
    "## Una vez limpios nuestros datos "
   ]
  },
  {
   "cell_type": "code",
   "execution_count": 17,
   "metadata": {},
   "outputs": [],
   "source": [
    "#Importamos algunas librerias para visualizar los dotas\n",
    "\n",
    "import matplotlib.pyplot as plt\n",
    "import seaborn as sns"
   ]
  },
  {
   "cell_type": "markdown",
   "metadata": {},
   "source": [
    "## Analisamos la clase Category"
   ]
  },
  {
   "cell_type": "code",
   "execution_count": 18,
   "metadata": {},
   "outputs": [
    {
     "data": {
      "text/plain": [
       "<matplotlib.axes._subplots.AxesSubplot at 0x2bf7aaeb910>"
      ]
     },
     "execution_count": 18,
     "metadata": {},
     "output_type": "execute_result"
    },
    {
     "data": {
      "image/png": "[encoded data removed]",
      "text/plain": [
       "<Figure size 432x360 with 1 Axes>"
      ]
     },
     "metadata": {
      "needs_background": "light"
     },
     "output_type": "display_data"
    }
   ],
   "source": [
    "#podemos observar el la categoria mas popular\n",
    "plt.figure(figsize=(6,5))\n",
    "sns.set(style=\"darkgrid\",palette=\"winter_r\")\n",
    "datos[\"Category\"].value_counts().head(10).plot.bar()"
   ]
  },
  {
   "cell_type": "markdown",
   "metadata": {},
   "source": [
    ">#### Observamos que la catergoria mas popular es FAMILY "
   ]
  },
  {
   "cell_type": "markdown",
   "metadata": {},
   "source": [
    "## Analisamos la clase Type"
   ]
  },
  {
   "cell_type": "code",
   "execution_count": 19,
   "metadata": {},
   "outputs": [
    {
     "data": {
      "text/plain": [
       "<matplotlib.axes._subplots.AxesSubplot at 0x2bf7c27d730>"
      ]
     },
     "execution_count": 19,
     "metadata": {},
     "output_type": "execute_result"
    },
    {
     "data": {
      "image/png": "[encoded data removed]",
      "text/plain": [
       "<Figure size 432x288 with 1 Axes>"
      ]
     },
     "metadata": {},
     "output_type": "display_data"
    }
   ],
   "source": [
    "#COntamos las aplicaiones que son Gratis o De paga\n",
    "sns.set(style=\"whitegrid\",palette=\"Blues_r\")\n",
    "sns.countplot(datos[\"Type\"])"
   ]
  },
  {
   "cell_type": "markdown",
   "metadata": {},
   "source": [
    ">#### Observamos que la mayoria de las aplicaiones son Gratis "
   ]
  },
  {
   "cell_type": "markdown",
   "metadata": {},
   "source": [
    "## Analisamos la clase Content Rating"
   ]
  },
  {
   "cell_type": "code",
   "execution_count": 20,
   "metadata": {},
   "outputs": [
    {
     "data": {
      "text/plain": [
       "<matplotlib.axes._subplots.AxesSubplot at 0x2bf76636ac0>"
      ]
     },
     "execution_count": 20,
     "metadata": {},
     "output_type": "execute_result"
    },
    {
     "data": {
      "image/png": "[encoded data removed]",
      "text/plain": [
       "<Figure size 504x360 with 1 Axes>"
      ]
     },
     "metadata": {},
     "output_type": "display_data"
    }
   ],
   "source": [
    "#Distribucion de los tipos de conteido \n",
    "plt.figure(figsize=(7,5))\n",
    "sns.set(style=\"whitegrid\",palette=\"hls\")\n",
    "sns.countplot(datos[\"Content Rating\"])"
   ]
  },
  {
   "cell_type": "markdown",
   "metadata": {},
   "source": [
    ">#### Observamos que la mayorias de las aplicaiones son de Tipo \"Para todos \""
   ]
  },
  {
   "cell_type": "markdown",
   "metadata": {},
   "source": [
    "## Analisamos la clase Rating"
   ]
  },
  {
   "cell_type": "code",
   "execution_count": 21,
   "metadata": {},
   "outputs": [
    {
     "data": {
      "text/plain": [
       "<matplotlib.axes._subplots.AxesSubplot at 0x2bf7c362fd0>"
      ]
     },
     "execution_count": 21,
     "metadata": {},
     "output_type": "execute_result"
    },
    {
     "data": {
      "image/png": "[encoded data removed]",
      "text/plain": [
       "<Figure size 504x360 with 1 Axes>"
      ]
     },
     "metadata": {},
     "output_type": "display_data"
    }
   ],
   "source": [
    "#Distribucion del Rating\n",
    "plt.figure(figsize=(7,5))\n",
    "sns.distplot(datos[\"Rating\"])"
   ]
  },
  {
   "cell_type": "markdown",
   "metadata": {},
   "source": [
    ">#### Observamos que Rating podria set una clase importante par nuestro analisis"
   ]
  },
  {
   "cell_type": "markdown",
   "metadata": {},
   "source": [
    "## Analizamos la clase Size"
   ]
  },
  {
   "cell_type": "code",
   "execution_count": 22,
   "metadata": {},
   "outputs": [
    {
     "data": {
      "text/plain": [
       "<matplotlib.axes._subplots.AxesSubplot at 0x2bf7c45bb50>"
      ]
     },
     "execution_count": 22,
     "metadata": {},
     "output_type": "execute_result"
    },
    {
     "data": {
      "image/png": "[encoded data removed]",
      "text/plain": [
       "<Figure size 504x360 with 1 Axes>"
      ]
     },
     "metadata": {},
     "output_type": "display_data"
    }
   ],
   "source": [
    "#Distribucion\n",
    "plt.figure(figsize=(7,5))\n",
    "sns.set(style=\"whitegrid\",palette=\"Dark2\")\n",
    "sns.distplot(datos[\"Size\"])"
   ]
  },
  {
   "cell_type": "code",
   "execution_count": 23,
   "metadata": {},
   "outputs": [
    {
     "ename": "SyntaxError",
     "evalue": "invalid syntax (<ipython-input-23-9cfa8aa5d773>, line 1)",
     "output_type": "error",
     "traceback": [
      "\u001b[1;36m  File \u001b[1;32m\"<ipython-input-23-9cfa8aa5d773>\"\u001b[1;36m, line \u001b[1;32m1\u001b[0m\n\u001b[1;33m    >#### la clase Size pdoria ser ipmortante para nuestro analisi\u001b[0m\n\u001b[1;37m    ^\u001b[0m\n\u001b[1;31mSyntaxError\u001b[0m\u001b[1;31m:\u001b[0m invalid syntax\n"
     ]
    }
   ],
   "source": [
    ">#### la clase Size pdoria ser ipmortante para nuestro analisi"
   ]
  },
  {
   "cell_type": "code",
   "execution_count": null,
   "metadata": {},
   "outputs": [],
   "source": [
    "#comprobando la correlación entre nuestras clases\n",
    "plt.figure(figsize=(9,7))\n",
    "sns.heatmap(datos.corr(),annot=True,cmap=\"summer\")"
   ]
  },
  {
   "cell_type": "markdown",
   "metadata": {},
   "source": [
    "#### Ahora, observando los datos podriamos hacer nuestras predicciones en Rating en función de otras clases\n",
    "##### Eliminairmos la clase Category por que pienso que no es un clase importante para nuestra analisis "
   ]
  },
  {
   "cell_type": "code",
   "execution_count": 24,
   "metadata": {},
   "outputs": [
    {
     "name": "stdout",
     "output_type": "stream",
     "text": [
      "         Rating  Reviews          Size  Installs  Type  Price Content Rating\n",
      "0      4.100000      159  1.900000e+07     10000  Free    0.0       Everyone\n",
      "1      3.900000      967  1.400000e+07    500000  Free    0.0       Everyone\n",
      "2      4.700000    87510  8.700000e+06   5000000  Free    0.0       Everyone\n",
      "3      4.500000   215644  2.500000e+07  50000000  Free    0.0           Teen\n",
      "4      4.300000      967  2.800000e+06    100000  Free    0.0       Everyone\n",
      "...         ...      ...           ...       ...   ...    ...            ...\n",
      "10836  4.500000       38  5.300000e+07      5000  Free    0.0       Everyone\n",
      "10837  5.000000        4  3.600000e+06       100  Free    0.0       Everyone\n",
      "10838  4.193338        3  9.500000e+06      1000  Free    0.0       Everyone\n",
      "10839  4.500000      114  2.153496e+07      1000  Free    0.0     Mature 17+\n",
      "10840  4.500000   398307  1.900000e+07  10000000  Free    0.0       Everyone\n",
      "\n",
      "[10829 rows x 7 columns]\n"
     ]
    }
   ],
   "source": [
    "#Eliminando la clase Category\n",
    "datos.drop(\"Category\",axis=1,inplace=True)\n",
    "print(datos)"
   ]
  },
  {
   "cell_type": "markdown",
   "metadata": {},
   "source": [
    "#### Hacemos un ultimo preprecesamiento por lo anterior visto en el analiusis de datos"
   ]
  },
  {
   "cell_type": "code",
   "execution_count": 25,
   "metadata": {},
   "outputs": [
    {
     "name": "stdout",
     "output_type": "stream",
     "text": [
      "0        0\n",
      "1        0\n",
      "2        0\n",
      "3        0\n",
      "4        0\n",
      "        ..\n",
      "10836    0\n",
      "10837    0\n",
      "10838    0\n",
      "10839    0\n",
      "10840    0\n",
      "Name: Type, Length: 10829, dtype: int32\n",
      "0        1\n",
      "1        1\n",
      "2        1\n",
      "3        4\n",
      "4        1\n",
      "        ..\n",
      "10836    1\n",
      "10837    1\n",
      "10838    1\n",
      "10839    3\n",
      "10840    1\n",
      "Name: Content Rating, Length: 10829, dtype: int32\n"
     ]
    }
   ],
   "source": [
    "# importamos librerias y categorizamos las clases Type, Content Rating\n",
    "from sklearn.preprocessing import LabelEncoder\n",
    "labelencoder = LabelEncoder()\n",
    "\n",
    "\n",
    "datos['Type'] = labelencoder.fit_transform(datos['Type'])\n",
    "print(datos.Type)\n",
    "\n",
    "\n",
    "datos['Content Rating'] = labelencoder.fit_transform(datos['Content Rating'])\n",
    "print(datos['Content Rating'])"
   ]
  },
  {
   "cell_type": "markdown",
   "metadata": {},
   "source": [
    "### Estandarizamos por lo visto anteriormente en nuesro analisis y visuzalicion de datos"
   ]
  },
  {
   "cell_type": "code",
   "execution_count": 26,
   "metadata": {},
   "outputs": [],
   "source": [
    "XX = datos.drop(columns=['Rating'],axis=1)\n",
    "yy = datos.loc[:,'Rating']\n",
    "yy=yy.astype(int)\n",
    "\n",
    "\n",
    "from sklearn.preprocessing import StandardScaler  \n",
    "scaler = StandardScaler()  \n",
    "scaler.fit(XX)\n",
    "rescX = scaler.transform(XX) \n"
   ]
  },
  {
   "cell_type": "markdown",
   "metadata": {},
   "source": [
    "# 5. Modelo y Pruebas"
   ]
  },
  {
   "cell_type": "markdown",
   "metadata": {},
   "source": [
    "##### Impoertamos las librerias neceasrias"
   ]
  },
  {
   "cell_type": "code",
   "execution_count": 27,
   "metadata": {},
   "outputs": [],
   "source": [
    "from sklearn.ensemble import RandomForestClassifier\n",
    "from sklearn.naive_bayes import GaussianNB\n",
    "from sklearn.neural_network import MLPClassifier\n",
    "from sklearn.model_selection import StratifiedShuffleSplit\n",
    "from sklearn.model_selection import cross_val_score \n",
    "from sklearn.metrics import confusion_matrix\n"
   ]
  },
  {
   "cell_type": "markdown",
   "metadata": {},
   "source": [
    "##### Para los 10 splits "
   ]
  },
  {
   "cell_type": "code",
   "execution_count": 28,
   "metadata": {},
   "outputs": [
    {
     "data": {
      "text/plain": [
       "10"
      ]
     },
     "execution_count": 28,
     "metadata": {},
     "output_type": "execute_result"
    }
   ],
   "source": [
    "sss = StratifiedShuffleSplit(n_splits=10, test_size=0.5, random_state=0)\n",
    "sss.get_n_splits(rescX, yy)\n"
   ]
  },
  {
   "cell_type": "markdown",
   "metadata": {},
   "source": [
    "###### Iteramos nuestros 10 splits  y hacemos pruebas"
   ]
  },
  {
   "cell_type": "code",
   "execution_count": 29,
   "metadata": {},
   "outputs": [
    {
     "name": "stdout",
     "output_type": "stream",
     "text": [
      ">>>>>>>>>>>>>>>>>>>>>>>>>>>>>>>>>>>>>>> Split:  1 <<<<<<<<<<<<<<<<<<<<<<<<<<<<<<<<<<<<<<<<\n",
      "********TEST********\n",
      "[4 3 3 ... 4 4 4]\n",
      "*******PREDICT******\n",
      "[4 2 5 ... 5 3 5]\n",
      "Nro Pred Correctos:  1157  de  5415\n",
      "************Matriz Confusion*************\n",
      "[[   4    5    0    0   19]\n",
      " [  31   29    2    0   54]\n",
      " [ 153  355  122   21  204]\n",
      " [ 338 1201  686  865 1189]\n",
      " [   0    0    0    0  137]]\n",
      "************Score******************\n",
      "GaussianNB() [0.21366574]\n",
      "###############################################\n",
      "********TEST********\n",
      "[4 3 3 ... 4 4 4]\n",
      "*******PREDICT******\n",
      "[4 3 4 ... 4 4 4]\n",
      "Nro Pred Correctos:  4110  de  5415\n",
      "************Matriz Confusion*************\n",
      "[[   0    0    5   23    0]\n",
      " [   0    8   21   85    2]\n",
      " [   0    9  194  645    7]\n",
      " [   6   29  307 3891   46]\n",
      " [   0    1    6  113   17]]\n",
      "************Score******************\n",
      "RandomForestClassifier(random_state=0) [0.75900277]\n",
      "###############################################\n",
      "********TEST********\n",
      "[4 3 3 ... 4 4 4]\n",
      "*******PREDICT******\n",
      "[4 4 4 ... 4 4 4]\n",
      "Nro Pred Correctos:  4279  de  5415\n",
      "************Matriz Confusion*************\n",
      "[[   0    0    0   28    0]\n",
      " [   0    0    0  116    0]\n",
      " [   0    0    0  855    0]\n",
      " [   0    0    0 4279    0]\n",
      " [   0    0    0  137    0]]\n",
      "************Score******************\n",
      "MLPClassifier(alpha=1e-05, hidden_layer_sizes=(5, 2), max_iter=500,\n",
      "              random_state=300, solver='lbfgs') [0.79021237]\n",
      "###############################################\n",
      "\n",
      "\n",
      ">>>>>>>>>>>>>>>>>>>>>>>>>>>>>>>>>>>>>>> Split:  2 <<<<<<<<<<<<<<<<<<<<<<<<<<<<<<<<<<<<<<<<\n",
      "********TEST********\n",
      "[4 4 4 ... 4 4 5]\n",
      "*******PREDICT******\n",
      "[3 2 5 ... 1 4 5]\n",
      "Nro Pred Correctos:  1082  de  5415\n",
      "************Matriz Confusion*************\n",
      "[[   5    3    0    0   20]\n",
      " [  35   19    4    0   58]\n",
      " [ 228  220  179   17  211]\n",
      " [ 491  603 1168  743 1274]\n",
      " [   0    0    1    0  136]]\n",
      "************Score******************\n",
      "GaussianNB() [0.19981533]\n",
      "###############################################\n",
      "********TEST********\n",
      "[4 4 4 ... 4 4 5]\n",
      "*******PREDICT******\n",
      "[3 3 4 ... 4 4 4]\n",
      "Nro Pred Correctos:  4124  de  5415\n",
      "************Matriz Confusion*************\n",
      "[[   0    2    3   21    2]\n",
      " [   0   11   15   88    2]\n",
      " [   2   11  164  678    0]\n",
      " [   8   24  272 3931   44]\n",
      " [   0    0    3  116   18]]\n",
      "************Score******************\n",
      "RandomForestClassifier(random_state=0) [0.76158818]\n",
      "###############################################\n",
      "********TEST********\n",
      "[4 4 4 ... 4 4 5]\n",
      "*******PREDICT******\n",
      "[4 4 4 ... 4 4 4]\n",
      "Nro Pred Correctos:  4279  de  5415\n",
      "************Matriz Confusion*************\n",
      "[[   0    0    0   28    0]\n",
      " [   0    0    0  116    0]\n",
      " [   0    0    0  855    0]\n",
      " [   0    0    0 4279    0]\n",
      " [   0    0    0  137    0]]\n",
      "************Score******************\n",
      "MLPClassifier(alpha=1e-05, hidden_layer_sizes=(5, 2), max_iter=500,\n",
      "              random_state=300, solver='lbfgs') [0.79021237]\n",
      "###############################################\n",
      "\n",
      "\n",
      ">>>>>>>>>>>>>>>>>>>>>>>>>>>>>>>>>>>>>>> Split:  3 <<<<<<<<<<<<<<<<<<<<<<<<<<<<<<<<<<<<<<<<\n",
      "********TEST********\n",
      "[4 4 3 ... 5 4 4]\n",
      "*******PREDICT******\n",
      "[4 4 2 ... 5 5 2]\n",
      "Nro Pred Correctos:  1235  de  5415\n",
      "************Matriz Confusion*************\n",
      "[[   5    5    0    0   18]\n",
      " [  44   18    0    0   54]\n",
      " [ 234  242  169   28  182]\n",
      " [ 490  917  837  915 1120]\n",
      " [   1    7    1    0  128]]\n",
      "************Score******************\n",
      "GaussianNB() [0.22807018]\n",
      "###############################################\n",
      "********TEST********\n",
      "[4 4 3 ... 5 4 4]\n",
      "*******PREDICT******\n",
      "[4 4 3 ... 4 4 4]\n",
      "Nro Pred Correctos:  4136  de  5415\n",
      "************Matriz Confusion*************\n",
      "[[   2    1    2   21    2]\n",
      " [   0   10   12   92    2]\n",
      " [   2   13  184  651    5]\n",
      " [   8   35  248 3920   68]\n",
      " [   1    0    2  114   20]]\n",
      "************Score******************\n",
      "RandomForestClassifier(random_state=0) [0.76380425]\n",
      "###############################################\n",
      "********TEST********\n",
      "[4 4 3 ... 5 4 4]\n",
      "*******PREDICT******\n",
      "[4 4 4 ... 4 4 4]\n",
      "Nro Pred Correctos:  4279  de  5415\n",
      "************Matriz Confusion*************\n",
      "[[   0    0    0   28    0]\n",
      " [   0    0    0  116    0]\n",
      " [   0    0    0  855    0]\n",
      " [   0    0    0 4279    0]\n",
      " [   0    0    0  137    0]]\n",
      "************Score******************\n",
      "MLPClassifier(alpha=1e-05, hidden_layer_sizes=(5, 2), max_iter=500,\n",
      "              random_state=300, solver='lbfgs') [0.79021237]\n",
      "###############################################\n",
      "\n",
      "\n",
      ">>>>>>>>>>>>>>>>>>>>>>>>>>>>>>>>>>>>>>> Split:  4 <<<<<<<<<<<<<<<<<<<<<<<<<<<<<<<<<<<<<<<<\n",
      "********TEST********\n",
      "[4 3 4 ... 3 4 4]\n",
      "*******PREDICT******\n",
      "[3 2 2 ... 1 5 4]\n",
      "Nro Pred Correctos:  1230  de  5415\n",
      "************Matriz Confusion*************\n",
      "[[   2    2    0    0   24]\n",
      " [  48   12    1    0   55]\n",
      " [ 246  227  164   20  198]\n",
      " [ 520  882  806  917 1154]\n",
      " [   1    1    0    0  135]]\n",
      "************Score******************\n",
      "GaussianNB() [0.22714681]\n",
      "###############################################\n",
      "********TEST********\n",
      "[4 3 4 ... 3 4 4]\n",
      "*******PREDICT******\n",
      "[4 4 3 ... 4 4 4]\n",
      "Nro Pred Correctos:  4138  de  5415\n",
      "************Matriz Confusion*************\n",
      "[[   1    0    2   23    2]\n",
      " [   1   10   23   81    1]\n",
      " [   1    8  194  649    3]\n",
      " [   5   27  281 3917   49]\n",
      " [   0    1    2  118   16]]\n",
      "************Score******************\n",
      "RandomForestClassifier(random_state=0) [0.76417359]\n",
      "###############################################\n",
      "********TEST********\n",
      "[4 3 4 ... 3 4 4]\n",
      "*******PREDICT******\n",
      "[4 4 4 ... 4 4 4]\n",
      "Nro Pred Correctos:  4279  de  5415\n",
      "************Matriz Confusion*************\n",
      "[[   0    0    0   28    0]\n",
      " [   0    0    0  116    0]\n",
      " [   0    0    0  855    0]\n",
      " [   0    0    0 4279    0]\n",
      " [   0    0    0  137    0]]\n",
      "************Score******************\n",
      "MLPClassifier(alpha=1e-05, hidden_layer_sizes=(5, 2), max_iter=500,\n",
      "              random_state=300, solver='lbfgs') [0.79021237]\n",
      "###############################################\n",
      "\n",
      "\n",
      ">>>>>>>>>>>>>>>>>>>>>>>>>>>>>>>>>>>>>>> Split:  5 <<<<<<<<<<<<<<<<<<<<<<<<<<<<<<<<<<<<<<<<\n",
      "********TEST********\n",
      "[4 4 4 ... 4 4 4]\n",
      "*******PREDICT******\n",
      "[3 4 4 ... 3 5 5]\n",
      "Nro Pred Correctos:  1113  de  5415\n",
      "************Matriz Confusion*************\n",
      "[[   2    3    0    0   23]\n",
      " [  45   11    1    0   59]\n",
      " [ 270  173  185   12  215]\n",
      " [ 588  722  957  779 1233]\n",
      " [   1    0    0    0  136]]\n",
      "************Score******************\n",
      "GaussianNB() [0.20554017]\n",
      "###############################################\n",
      "********TEST********\n",
      "[4 4 4 ... 4 4 4]\n",
      "*******PREDICT******\n",
      "[4 4 4 ... 4 2 3]\n",
      "Nro Pred Correctos:  4124  de  5415\n",
      "************Matriz Confusion*************\n",
      "[[   0    0    4   21    3]\n",
      " [   0    9   20   85    2]\n",
      " [   3    6  182  657    7]\n",
      " [   2   21  296 3905   55]\n",
      " [   0    2    7  100   28]]\n",
      "************Score******************\n",
      "RandomForestClassifier(random_state=0) [0.76158818]\n",
      "###############################################\n",
      "********TEST********\n",
      "[4 4 4 ... 4 4 4]\n",
      "*******PREDICT******\n",
      "[4 4 4 ... 4 4 4]\n",
      "Nro Pred Correctos:  4279  de  5415\n",
      "************Matriz Confusion*************\n",
      "[[   0    0    0   28    0]\n",
      " [   0    0    0  116    0]\n",
      " [   0    0    0  855    0]\n",
      " [   0    0    0 4279    0]\n",
      " [   0    0    0  137    0]]\n",
      "************Score******************\n",
      "MLPClassifier(alpha=1e-05, hidden_layer_sizes=(5, 2), max_iter=500,\n",
      "              random_state=300, solver='lbfgs') [0.79021237]\n",
      "###############################################\n",
      "\n",
      "\n",
      ">>>>>>>>>>>>>>>>>>>>>>>>>>>>>>>>>>>>>>> Split:  6 <<<<<<<<<<<<<<<<<<<<<<<<<<<<<<<<<<<<<<<<\n",
      "********TEST********\n",
      "[3 3 4 ... 5 4 4]\n",
      "*******PREDICT******\n",
      "[1 1 2 ... 5 3 5]\n",
      "Nro Pred Correctos:  973  de  5415\n",
      "************Matriz Confusion*************\n",
      "[[   3    2    0    0   23]\n",
      " [  41   14    2    0   59]\n",
      " [ 246  253  133   17  206]\n",
      " [ 566  998  831  687 1197]\n",
      " [   1    0    0    0  136]]\n",
      "************Score******************\n",
      "GaussianNB() [0.17968606]\n",
      "###############################################\n",
      "********TEST********\n",
      "[3 3 4 ... 5 4 4]\n",
      "*******PREDICT******\n",
      "[4 3 4 ... 5 4 4]\n",
      "Nro Pred Correctos:  4124  de  5415\n",
      "************Matriz Confusion*************\n",
      "[[   2    0    3   22    1]\n",
      " [   1    6   20   89    0]\n",
      " [   1    7  191  652    4]\n",
      " [   2   24  303 3898   52]\n",
      " [   0    2    3  105   27]]\n",
      "************Score******************\n",
      "RandomForestClassifier(random_state=0) [0.76158818]\n",
      "###############################################\n",
      "********TEST********\n",
      "[3 3 4 ... 5 4 4]\n",
      "*******PREDICT******\n",
      "[4 4 4 ... 4 4 4]\n",
      "Nro Pred Correctos:  4279  de  5415\n"
     ]
    },
    {
     "name": "stdout",
     "output_type": "stream",
     "text": [
      "************Matriz Confusion*************\n",
      "[[   0    0    0   28    0]\n",
      " [   0    0    0  116    0]\n",
      " [   0    0    0  855    0]\n",
      " [   0    0    0 4279    0]\n",
      " [   0    0    0  137    0]]\n",
      "************Score******************\n",
      "MLPClassifier(alpha=1e-05, hidden_layer_sizes=(5, 2), max_iter=500,\n",
      "              random_state=300, solver='lbfgs') [0.79021237]\n",
      "###############################################\n",
      "\n",
      "\n",
      ">>>>>>>>>>>>>>>>>>>>>>>>>>>>>>>>>>>>>>> Split:  7 <<<<<<<<<<<<<<<<<<<<<<<<<<<<<<<<<<<<<<<<\n",
      "********TEST********\n",
      "[3 3 4 ... 4 4 1]\n",
      "*******PREDICT******\n",
      "[3 1 2 ... 5 2 5]\n",
      "Nro Pred Correctos:  1266  de  5415\n",
      "************Matriz Confusion*************\n",
      "[[   5    1    0    0   22]\n",
      " [  44   17    3    0   52]\n",
      " [ 213  222  205   23  192]\n",
      " [ 495  627 1068  903 1186]\n",
      " [   1    0    0    0  136]]\n",
      "************Score******************\n",
      "GaussianNB() [0.23379501]\n",
      "###############################################\n",
      "********TEST********\n",
      "[3 3 4 ... 4 4 1]\n",
      "*******PREDICT******\n",
      "[4 3 4 ... 4 4 4]\n",
      "Nro Pred Correctos:  4118  de  5415\n",
      "************Matriz Confusion*************\n",
      "[[   1    0    5   22    0]\n",
      " [   1    7   23   83    2]\n",
      " [   1    8  186  655    5]\n",
      " [  14   25  277 3905   58]\n",
      " [   2    2    7  107   19]]\n",
      "************Score******************\n",
      "RandomForestClassifier(random_state=0) [0.76048015]\n",
      "###############################################\n",
      "********TEST********\n",
      "[3 3 4 ... 4 4 1]\n",
      "*******PREDICT******\n",
      "[4 4 4 ... 4 4 4]\n",
      "Nro Pred Correctos:  4279  de  5415\n",
      "************Matriz Confusion*************\n",
      "[[   0    0    0   28    0]\n",
      " [   0    0    0  116    0]\n",
      " [   0    0    0  855    0]\n",
      " [   0    0    0 4279    0]\n",
      " [   0    0    0  137    0]]\n",
      "************Score******************\n",
      "MLPClassifier(alpha=1e-05, hidden_layer_sizes=(5, 2), max_iter=500,\n",
      "              random_state=300, solver='lbfgs') [0.79021237]\n",
      "###############################################\n",
      "\n",
      "\n",
      ">>>>>>>>>>>>>>>>>>>>>>>>>>>>>>>>>>>>>>> Split:  8 <<<<<<<<<<<<<<<<<<<<<<<<<<<<<<<<<<<<<<<<\n",
      "********TEST********\n",
      "[4 4 4 ... 4 4 4]\n",
      "*******PREDICT******\n",
      "[5 4 5 ... 4 2 3]\n",
      "Nro Pred Correctos:  1210  de  5415\n",
      "************Matriz Confusion*************\n",
      "[[   8    2    0    0   18]\n",
      " [  46   10    2    2   56]\n",
      " [ 259  197  172   28  199]\n",
      " [ 522  638 1052  885 1182]\n",
      " [   0    0    1    1  135]]\n",
      "************Score******************\n",
      "GaussianNB() [0.22345337]\n",
      "###############################################\n",
      "********TEST********\n",
      "[4 4 4 ... 4 4 4]\n",
      "*******PREDICT******\n",
      "[4 4 5 ... 4 4 4]\n",
      "Nro Pred Correctos:  4136  de  5415\n",
      "************Matriz Confusion*************\n",
      "[[   2    2    4   19    1]\n",
      " [   0    6   18   88    4]\n",
      " [   2   12  197  642    2]\n",
      " [   5   25  288 3917   44]\n",
      " [   1    1    4  117   14]]\n",
      "************Score******************\n",
      "RandomForestClassifier(random_state=0) [0.76380425]\n",
      "###############################################\n",
      "********TEST********\n",
      "[4 4 4 ... 4 4 4]\n",
      "*******PREDICT******\n",
      "[4 4 4 ... 4 4 4]\n",
      "Nro Pred Correctos:  4279  de  5415\n",
      "************Matriz Confusion*************\n",
      "[[   0    0    0   28    0]\n",
      " [   0    0    0  116    0]\n",
      " [   0    0    0  855    0]\n",
      " [   0    0    0 4279    0]\n",
      " [   0    0    0  137    0]]\n",
      "************Score******************\n",
      "MLPClassifier(alpha=1e-05, hidden_layer_sizes=(5, 2), max_iter=500,\n",
      "              random_state=300, solver='lbfgs') [0.79021237]\n",
      "###############################################\n",
      "\n",
      "\n",
      ">>>>>>>>>>>>>>>>>>>>>>>>>>>>>>>>>>>>>>> Split:  9 <<<<<<<<<<<<<<<<<<<<<<<<<<<<<<<<<<<<<<<<\n",
      "********TEST********\n",
      "[4 4 4 ... 4 4 4]\n",
      "*******PREDICT******\n",
      "[4 1 2 ... 5 3 4]\n",
      "Nro Pred Correctos:  1289  de  5415\n",
      "************Matriz Confusion*************\n",
      "[[   6    0    0    0   22]\n",
      " [  49    9    4    0   54]\n",
      " [ 283  118  216   26  212]\n",
      " [ 617  456 1082  922 1202]\n",
      " [   1    0    0    0  136]]\n",
      "************Score******************\n",
      "GaussianNB() [0.23804247]\n",
      "###############################################\n",
      "********TEST********\n",
      "[4 4 4 ... 4 4 4]\n",
      "*******PREDICT******\n",
      "[4 3 4 ... 4 4 4]\n",
      "Nro Pred Correctos:  4119  de  5415\n",
      "************Matriz Confusion*************\n",
      "[[   0    0    7   20    1]\n",
      " [   2    8   18   88    0]\n",
      " [   2    8  176  668    1]\n",
      " [  10   19  292 3920   38]\n",
      " [   1    1    6  114   15]]\n",
      "************Score******************\n",
      "RandomForestClassifier(random_state=0) [0.76066482]\n",
      "###############################################\n",
      "********TEST********\n",
      "[4 4 4 ... 4 4 4]\n",
      "*******PREDICT******\n",
      "[4 4 4 ... 4 4 4]\n",
      "Nro Pred Correctos:  4279  de  5415\n",
      "************Matriz Confusion*************\n",
      "[[   0    0    0   28    0]\n",
      " [   0    0    0  116    0]\n",
      " [   0    0    0  855    0]\n",
      " [   0    0    0 4279    0]\n",
      " [   0    0    0  137    0]]\n",
      "************Score******************\n",
      "MLPClassifier(alpha=1e-05, hidden_layer_sizes=(5, 2), max_iter=500,\n",
      "              random_state=300, solver='lbfgs') [0.79021237]\n",
      "###############################################\n",
      "\n",
      "\n",
      ">>>>>>>>>>>>>>>>>>>>>>>>>>>>>>>>>>>>>>> Split:  10 <<<<<<<<<<<<<<<<<<<<<<<<<<<<<<<<<<<<<<<<\n",
      "********TEST********\n",
      "[4 4 4 ... 4 3 4]\n",
      "*******PREDICT******\n",
      "[4 5 1 ... 1 5 5]\n",
      "Nro Pred Correctos:  1366  de  5415\n",
      "************Matriz Confusion*************\n",
      "[[   4    0    1    0   23]\n",
      " [  44    7   15    0   50]\n",
      " [ 261   72  305   28  189]\n",
      " [ 540  371 1276  915 1177]\n",
      " [   1    1    0    0  135]]\n",
      "************Score******************\n",
      "GaussianNB() [0.25226223]\n",
      "###############################################\n",
      "********TEST********\n",
      "[4 4 4 ... 4 3 4]\n",
      "*******PREDICT******\n",
      "[4 4 3 ... 4 4 4]\n",
      "Nro Pred Correctos:  4147  de  5415\n",
      "************Matriz Confusion*************\n",
      "[[   1    0    2   25    0]\n",
      " [   0    8   16   90    2]\n",
      " [   1    7  182  660    5]\n",
      " [   7   14  277 3936   45]\n",
      " [   2    0    5  110   20]]\n",
      "************Score******************\n",
      "RandomForestClassifier(random_state=0) [0.76583564]\n",
      "###############################################\n",
      "********TEST********\n",
      "[4 4 4 ... 4 3 4]\n",
      "*******PREDICT******\n",
      "[4 4 4 ... 4 4 4]\n",
      "Nro Pred Correctos:  4279  de  5415\n",
      "************Matriz Confusion*************\n",
      "[[   0    0    0   28    0]\n",
      " [   0    0    0  116    0]\n",
      " [   0    0    0  855    0]\n",
      " [   0    0    0 4279    0]\n",
      " [   0    0    0  137    0]]\n",
      "************Score******************\n",
      "MLPClassifier(alpha=1e-05, hidden_layer_sizes=(5, 2), max_iter=500,\n",
      "              random_state=300, solver='lbfgs') [0.79021237]\n",
      "###############################################\n",
      "\n",
      "\n"
     ]
    }
   ],
   "source": [
    "i=1\n",
    "for train_index, test_index in  sss.split(rescX, yy):\n",
    "    print('>>>>>>>>>>>>>>>>>>>>>>>>>>>>>>>>>>>>>>> Split: ',i,'<<<<<<<<<<<<<<<<<<<<<<<<<<<<<<<<<<<<<<<<')\n",
    "    Xtrain, Xtest = rescX[train_index], rescX[test_index]\n",
    "    ytrain, ytest = yy.values[train_index], yy.values[test_index]\n",
    "  \n",
    "    # Modelos\n",
    "    randomf = RandomForestClassifier(random_state=0)\n",
    "    gnb = GaussianNB()\n",
    "    clf = MLPClassifier(solver='lbfgs', alpha=1e-5,  hidden_layer_sizes=(5, 2), random_state=300,max_iter=500)\n",
    "    \n",
    "    sk_clasificador = {'GaussianNB':gnb,\n",
    "                       'RandomForest':randomf,\n",
    "                       'MLP': clf}\n",
    "    \n",
    "    for clasifier in sk_clasificador:\n",
    "        estimador = sk_clasificador[clasifier]\n",
    "        \n",
    "        estimador.fit(Xtrain, ytrain)\n",
    "        \n",
    "        #Pruebas\n",
    "        ypred = estimador.predict(Xtest)\n",
    "        \n",
    "        print('********TEST********')\n",
    "        print(ytest)\n",
    "        print('*******PREDICT******')\n",
    "        print(ypred)\n",
    "        print('Nro Pred Correctos: ',sum(np.array(ytest)==np.array(ypred)),' de ', len(ytest))\n",
    "        score = cross_val_score(estimador, rescX, yy, scoring='accuracy', cv=[(train_index, test_index)])\n",
    "        print('************Matriz Confusion*************')\n",
    "        print(confusion_matrix(ytest,ypred))\n",
    "        print('************Score******************')\n",
    "        print(estimador, score)\n",
    "        print('###############################################')\n",
    "    \n",
    "    i+=1\n",
    "    print('\\n')"
   ]
  },
  {
   "cell_type": "markdown",
   "metadata": {},
   "source": [
    "# Conclusiones\n",
    ">### Todos los modelos no pudieron aprender los patrones de manera muy efectiva llegando a un max de 0.79 sin embargo hay un buen numero de predicciones, es decir, los datos en sí parecen no tener patrones. Esto podría deberse a conexiones débiles entre los datos. Es posible que agregar más clases relevantes ayude a mejorar la precisión del los modelos ."
   ]
  }
 ],
 "metadata": {
  "kernelspec": {
   "display_name": "Python 3",
   "language": "python",
   "name": "python3"
  },
  "language_info": {
   "codemirror_mode": {
    "name": "ipython",
    "version": 3
   },
   "file_extension": ".py",
   "mimetype": "text/x-python",
   "name": "python",
   "nbconvert_exporter": "python",
   "pygments_lexer": "ipython3",
   "version": "3.8.3"
  }
 },
 "nbformat": 4,
 "nbformat_minor": 4
}
